{
 "cells": [
  {
   "cell_type": "code",
   "execution_count": 2,
   "metadata": {},
   "outputs": [
    {
     "name": "stdout",
     "output_type": "stream",
     "text": [
      "Collecting pyscreenshot\n",
      "  Downloading https://files.pythonhosted.org/packages/ef/f2/35066da41daceabb3d6f1d44d98457f2b3ddca786181fc7cc9c45e8ef491/pyscreenshot-1.0-py2.py3-none-any.whl\n",
      "Collecting entrypoint2\n",
      "  Downloading https://files.pythonhosted.org/packages/ca/7e/2c5f211ebbb37c7bd474f3b2d813bde5b5391f31c46e190b2b84d83ec9b7/entrypoint2-0.2-py2.py3-none-any.whl\n",
      "Collecting EasyProcess\n",
      "  Downloading https://files.pythonhosted.org/packages/32/8f/88d636f1da22a3c573259e44cfefb46a117d3f9432e2c98b1ab4a21372ad/EasyProcess-0.2.10-py2.py3-none-any.whl\n",
      "Requirement already satisfied: decorator in c:\\users\\ekta\\anaconda3\\lib\\site-packages (from entrypoint2->pyscreenshot) (4.3.0)\n",
      "Collecting argparse\n",
      "  Downloading https://files.pythonhosted.org/packages/f2/94/3af39d34be01a24a6e65433d19e107099374224905f1e0cc6bbe1fd22a2f/argparse-1.4.0-py2.py3-none-any.whl\n",
      "Installing collected packages: argparse, entrypoint2, EasyProcess, pyscreenshot\n",
      "Successfully installed EasyProcess-0.2.10 argparse-1.4.0 entrypoint2-0.2 pyscreenshot-1.0\n"
     ]
    },
    {
     "name": "stderr",
     "output_type": "stream",
     "text": [
      "WARNING: You are using pip version 19.3.1; however, version 20.0.2 is available.\n",
      "You should consider upgrading via the 'python -m pip install --upgrade pip' command.\n"
     ]
    }
   ],
   "source": [
    "!pip install pyscreenshot"
   ]
  },
  {
   "cell_type": "code",
   "execution_count": 3,
   "metadata": {},
   "outputs": [],
   "source": [
    "import numpy as np\n",
    "import cv2\n",
    "import pyscreenshot as pys\n"
   ]
  },
  {
   "cell_type": "code",
   "execution_count": 4,
   "metadata": {},
   "outputs": [],
   "source": [
    "forcc = cv2.VideoWriter_fourcc(*'XVID')\n",
    "out = cv2.VideoWriter('output.avi', forcc, 8, (1920,1080))"
   ]
  },
  {
   "cell_type": "code",
   "execution_count": 7,
   "metadata": {},
   "outputs": [],
   "source": [
    "while True:\n",
    "    img= pys.grab()\n",
    "    img_np=np.array(img)\n",
    "\n",
    "    #frame= cv2.cvtColor(img_np, cv2.COLOR_BGR2GRAY)\n",
    "\n",
    "    cv2.imshow('Screen', img_np)\n",
    "    out.write(img_np)\n",
    "\n",
    "\n",
    "    if cv2.waitKey(20) & 0xFF==ord('q'):\n",
    "        break\n",
    "\n",
    "out.release()\n",
    "cv2.destroyAllWindows()"
   ]
  },
  {
   "cell_type": "code",
   "execution_count": null,
   "metadata": {},
   "outputs": [],
   "source": []
  },
  {
   "cell_type": "code",
   "execution_count": null,
   "metadata": {},
   "outputs": [],
   "source": []
  }
 ],
 "metadata": {
  "kernelspec": {
   "display_name": "Python 3",
   "language": "python",
   "name": "python3"
  },
  "language_info": {
   "codemirror_mode": {
    "name": "ipython",
    "version": 3
   },
   "file_extension": ".py",
   "mimetype": "text/x-python",
   "name": "python",
   "nbconvert_exporter": "python",
   "pygments_lexer": "ipython3",
   "version": "3.7.1"
  }
 },
 "nbformat": 4,
 "nbformat_minor": 2
}
